{
 "cells": [
  {
   "cell_type": "code",
   "execution_count": null,
   "id": "d7a761d7",
   "metadata": {},
   "outputs": [],
   "source": [
    "import dash\n",
    "from dash import html, dcc \n",
    "import pandas as pd\n",
    "from ntscraper import Nitter "
   ]
  },
  {
   "cell_type": "code",
   "execution_count": 11,
   "id": "2082a24b",
   "metadata": {},
   "outputs": [
    {
     "name": "stdout",
     "output_type": "stream",
     "text": [
      "02-Aug-24 03:14:55 - No instance specified, using random instance https://nitter.privacydev.net\n",
      "02-Aug-24 03:14:56 - Empty page on https://nitter.privacydev.net\n"
     ]
    },
    {
     "data": {
      "text/html": [
       "\n",
       "        <iframe\n",
       "            width=\"100%\"\n",
       "            height=\"650\"\n",
       "            src=\"http://127.0.0.1:8050/\"\n",
       "            frameborder=\"0\"\n",
       "            allowfullscreen\n",
       "            \n",
       "        ></iframe>\n",
       "        "
      ],
      "text/plain": [
       "<IPython.lib.display.IFrame at 0x20de078a190>"
      ]
     },
     "metadata": {},
     "output_type": "display_data"
    }
   ],
   "source": [
    "import pandas as pd\n",
    "import dash\n",
    "from dash import dcc, html\n",
    "\n",
    "# Assuming Nitter is a valid class and properly imported\n",
    "# scraper = Nitter(0)\n",
    "\n",
    "# Function to fetch tweets\n",
    "def get_tweets(name, modes, no):\n",
    "    tweets = scraper.get_tweets(name, mode=modes, number=no)\n",
    "    final_tweets = []\n",
    "    for x in tweets['tweets']:\n",
    "        data = [\n",
    "            x['link'],\n",
    "            x['text'],\n",
    "            x['date'],\n",
    "            x['stats']['likes'],\n",
    "            x['stats']['comments']\n",
    "        ]\n",
    "        final_tweets.append(data)\n",
    "    dat = pd.DataFrame(final_tweets, columns=['twitter_link', 'text', 'date', 'likes', 'comments'])\n",
    "    return dat\n",
    "\n",
    "# Fetch data\n",
    "data = get_tweets('World cup 2023', 'term', 10)\n",
    "\n",
    "# Initialize Dash app\n",
    "app = dash.Dash(__name__)\n",
    "\n",
    "# Define layout\n",
    "app.layout = html.Div([\n",
    "    html.H1(\"Twitter Dashboard\"),\n",
    "    dcc.Graph(\n",
    "        id='tweets-graph',\n",
    "        figure={\n",
    "            'data': [\n",
    "                {'x': data['date'], 'y': data['likes'], 'type': 'bar', 'name': 'Likes'},\n",
    "                {'x': data['date'], 'y': data['comments'], 'type': 'bar', 'name': 'Comments'}\n",
    "            ],\n",
    "            'layout': {\n",
    "                'title': 'Likes and Comments Over Time'\n",
    "            }\n",
    "        }\n",
    "    ),\n",
    "    html.Table([\n",
    "        html.Thead(\n",
    "            html.Tr([html.Th(col) for col in data.columns])\n",
    "        ),\n",
    "        html.Tbody([\n",
    "            html.Tr([\n",
    "                html.Td(data.iloc[i][col]) for col in data.columns\n",
    "            ]) for i in range(len(data))\n",
    "        ])\n",
    "    ])\n",
    "])\n",
    "\n",
    "# Run the app\n",
    "if __name__ == '__main__':\n",
    "    app.run_server(debug=True)"
   ]
  },
  {
   "cell_type": "code",
   "execution_count": null,
   "id": "76e6a506",
   "metadata": {},
   "outputs": [],
   "source": []
  },
  {
   "cell_type": "code",
   "execution_count": null,
   "id": "cab6a954",
   "metadata": {},
   "outputs": [],
   "source": []
  },
  {
   "cell_type": "code",
   "execution_count": null,
   "id": "893aa7c9",
   "metadata": {},
   "outputs": [],
   "source": []
  }
 ],
 "metadata": {
  "kernelspec": {
   "display_name": "Python 3 (ipykernel)",
   "language": "python",
   "name": "python3"
  },
  "language_info": {
   "codemirror_mode": {
    "name": "ipython",
    "version": 3
   },
   "file_extension": ".py",
   "mimetype": "text/x-python",
   "name": "python",
   "nbconvert_exporter": "python",
   "pygments_lexer": "ipython3",
   "version": "3.11.5"
  }
 },
 "nbformat": 4,
 "nbformat_minor": 5
}
