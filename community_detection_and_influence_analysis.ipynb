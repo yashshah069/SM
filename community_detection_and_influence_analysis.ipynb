{
 "cells": [
  {
   "cell_type": "code",
   "execution_count": 15,
   "id": "a5ff5756",
   "metadata": {},
   "outputs": [],
   "source": [
    "import pandas as pd \n",
    "import networkx as nx\n",
    "import community as community_louvain \n",
    "import matplotlib.pyplot as plt"
   ]
  },
  {
   "cell_type": "code",
   "execution_count": 16,
   "id": "4b596f1a",
   "metadata": {},
   "outputs": [],
   "source": [
    "#install python_louvain\n",
    "# Step 1: Data Collection (Load the data)\n",
    "# For demonstration, let's create a synthetic dataset \n",
    "data = {\n",
    "    'source': ['A', 'A', 'B', 'C', 'D', 'E', 'E', 'F', 'F', 'G'],\n",
    "    'target': ['B', 'C', 'D', 'E', 'F', 'G', 'H', 'I', 'J', 'K']\n",
    "}\n",
    "df = pd.DataFrame(data)"
   ]
  },
  {
   "cell_type": "code",
   "execution_count": 17,
   "id": "9f465c69",
   "metadata": {},
   "outputs": [],
   "source": [
    "# Step 2: Network Construction\n",
    "G = nx.from_pandas_edgelist(df, 'source', 'target') "
   ]
  },
  {
   "cell_type": "code",
   "execution_count": 24,
   "id": "fe0a540d",
   "metadata": {},
   "outputs": [
    {
     "name": "stdout",
     "output_type": "stream",
     "text": [
      "Requirement already satisfied: python-louvain in c:\\users\\yashs\\anaconda3\\lib\\site-packages (0.16)\n",
      "Requirement already satisfied: networkx in c:\\users\\yashs\\anaconda3\\lib\\site-packages (from python-louvain) (3.1)\n",
      "Requirement already satisfied: numpy in c:\\users\\yashs\\anaconda3\\lib\\site-packages (from python-louvain) (1.24.3)\n"
     ]
    }
   ],
   "source": [
    "!pip install --upgrade python-louvain"
   ]
  },
  {
   "cell_type": "code",
   "execution_count": 25,
   "id": "78b5a3e6",
   "metadata": {},
   "outputs": [
    {
     "ename": "AttributeError",
     "evalue": "module 'community' has no attribute 'best_partition'",
     "output_type": "error",
     "traceback": [
      "\u001b[1;31m---------------------------------------------------------------------------\u001b[0m",
      "\u001b[1;31mAttributeError\u001b[0m                            Traceback (most recent call last)",
      "Cell \u001b[1;32mIn[25], line 2\u001b[0m\n\u001b[0;32m      1\u001b[0m \u001b[38;5;66;03m# Step 3: Community Detection\u001b[39;00m\n\u001b[1;32m----> 2\u001b[0m partition \u001b[38;5;241m=\u001b[39m community_louvain\u001b[38;5;241m.\u001b[39mbest_partition(G)\n\u001b[0;32m      3\u001b[0m \u001b[38;5;66;03m# Add community information to nodes\u001b[39;00m\n\u001b[0;32m      4\u001b[0m \u001b[38;5;28;01mfor\u001b[39;00m node, community \u001b[38;5;129;01min\u001b[39;00m partition\u001b[38;5;241m.\u001b[39mitems():\n",
      "\u001b[1;31mAttributeError\u001b[0m: module 'community' has no attribute 'best_partition'"
     ]
    }
   ],
   "source": [
    "# Step 3: Community Detection\n",
    "partition = community_louvain.best_partition(G)\n",
    "# Add community information to nodes\n",
    "for node, community in partition.items():\n",
    "    G.nodes[node]['community'] = community "
   ]
  },
  {
   "cell_type": "code",
   "execution_count": 26,
   "id": "22f5a762",
   "metadata": {},
   "outputs": [],
   "source": [
    "# Step 4: Influence Analysis\n",
    "pagerank = nx.pagerank(G) \n",
    "nx.set_node_attributes(G, pagerank, 'pagerank') "
   ]
  },
  {
   "cell_type": "code",
   "execution_count": 27,
   "id": "e715cdfa",
   "metadata": {},
   "outputs": [
    {
     "ename": "NameError",
     "evalue": "name 'partition' is not defined",
     "output_type": "error",
     "traceback": [
      "\u001b[1;31m---------------------------------------------------------------------------\u001b[0m",
      "\u001b[1;31mNameError\u001b[0m                                 Traceback (most recent call last)",
      "Cell \u001b[1;32mIn[27], line 6\u001b[0m\n\u001b[0;32m      4\u001b[0m plt\u001b[38;5;241m.\u001b[39mfigure(figsize\u001b[38;5;241m=\u001b[39m(\u001b[38;5;241m12\u001b[39m, \u001b[38;5;241m8\u001b[39m))\n\u001b[0;32m      5\u001b[0m \u001b[38;5;66;03m# Draw nodes with community colors\u001b[39;00m\n\u001b[1;32m----> 6\u001b[0m colors \u001b[38;5;241m=\u001b[39m [partition[node] \u001b[38;5;28;01mfor\u001b[39;00m node \u001b[38;5;129;01min\u001b[39;00m G\u001b[38;5;241m.\u001b[39mnodes()]\n\u001b[0;32m      7\u001b[0m nx\u001b[38;5;241m.\u001b[39mdraw_networkx_nodes(G, pos, node_size\u001b[38;5;241m=\u001b[39m\u001b[38;5;241m500\u001b[39m, node_color\u001b[38;5;241m=\u001b[39mcolors, cmap\u001b[38;5;241m=\u001b[39mplt\u001b[38;5;241m.\u001b[39mcm\u001b[38;5;241m.\u001b[39mjet) \n\u001b[0;32m      8\u001b[0m nx\u001b[38;5;241m.\u001b[39mdraw_networkx_edges(G, pos, alpha\u001b[38;5;241m=\u001b[39m\u001b[38;5;241m0.5\u001b[39m)\n",
      "Cell \u001b[1;32mIn[27], line 6\u001b[0m, in \u001b[0;36m<listcomp>\u001b[1;34m(.0)\u001b[0m\n\u001b[0;32m      4\u001b[0m plt\u001b[38;5;241m.\u001b[39mfigure(figsize\u001b[38;5;241m=\u001b[39m(\u001b[38;5;241m12\u001b[39m, \u001b[38;5;241m8\u001b[39m))\n\u001b[0;32m      5\u001b[0m \u001b[38;5;66;03m# Draw nodes with community colors\u001b[39;00m\n\u001b[1;32m----> 6\u001b[0m colors \u001b[38;5;241m=\u001b[39m [partition[node] \u001b[38;5;28;01mfor\u001b[39;00m node \u001b[38;5;129;01min\u001b[39;00m G\u001b[38;5;241m.\u001b[39mnodes()]\n\u001b[0;32m      7\u001b[0m nx\u001b[38;5;241m.\u001b[39mdraw_networkx_nodes(G, pos, node_size\u001b[38;5;241m=\u001b[39m\u001b[38;5;241m500\u001b[39m, node_color\u001b[38;5;241m=\u001b[39mcolors, cmap\u001b[38;5;241m=\u001b[39mplt\u001b[38;5;241m.\u001b[39mcm\u001b[38;5;241m.\u001b[39mjet) \n\u001b[0;32m      8\u001b[0m nx\u001b[38;5;241m.\u001b[39mdraw_networkx_edges(G, pos, alpha\u001b[38;5;241m=\u001b[39m\u001b[38;5;241m0.5\u001b[39m)\n",
      "\u001b[1;31mNameError\u001b[0m: name 'partition' is not defined"
     ]
    },
    {
     "data": {
      "text/plain": [
       "<Figure size 1200x800 with 0 Axes>"
      ]
     },
     "metadata": {},
     "output_type": "display_data"
    }
   ],
   "source": [
    "# Step 5: Visualization\n",
    "pos = nx.spring_layout(G) \n",
    "# Layout for visualization \n",
    "plt.figure(figsize=(12, 8))\n",
    "# Draw nodes with community colors\n",
    "colors = [partition[node] for node in G.nodes()]\n",
    "nx.draw_networkx_nodes(G, pos, node_size=500, node_color=colors, cmap=plt.cm.jet) \n",
    "nx.draw_networkx_edges(G, pos, alpha=0.5)\n",
    "nx.draw_networkx_labels(G, pos, font_size=12)\n",
    "# Draw node labels for pagerank\n",
    "pagerank_labels = {node: f'{round(rank, 2)}' for node, rank in pagerank.items()} \n",
    "nx.draw_networkx_labels(G, pos, labels=pagerank_labels, font_color='red') \n",
    "plt.title('Social Network with Community Detection and Influence Analysis') \n",
    "plt.show()"
   ]
  },
  {
   "cell_type": "code",
   "execution_count": null,
   "id": "1117f9e3",
   "metadata": {},
   "outputs": [],
   "source": []
  },
  {
   "cell_type": "code",
   "execution_count": null,
   "id": "8dbb9266",
   "metadata": {},
   "outputs": [],
   "source": []
  },
  {
   "cell_type": "code",
   "execution_count": null,
   "id": "29c913ae",
   "metadata": {},
   "outputs": [],
   "source": []
  },
  {
   "cell_type": "code",
   "execution_count": null,
   "id": "3c559dd4",
   "metadata": {},
   "outputs": [],
   "source": []
  }
 ],
 "metadata": {
  "kernelspec": {
   "display_name": "Python 3 (ipykernel)",
   "language": "python",
   "name": "python3"
  },
  "language_info": {
   "codemirror_mode": {
    "name": "ipython",
    "version": 3
   },
   "file_extension": ".py",
   "mimetype": "text/x-python",
   "name": "python",
   "nbconvert_exporter": "python",
   "pygments_lexer": "ipython3",
   "version": "3.11.5"
  }
 },
 "nbformat": 4,
 "nbformat_minor": 5
}
