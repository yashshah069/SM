{
 "cells": [
  {
   "cell_type": "code",
   "execution_count": 6,
   "id": "dc9f3285",
   "metadata": {},
   "outputs": [
    {
     "name": "stdout",
     "output_type": "stream",
     "text": [
      "02-Aug-24 03:28:48 - Note: NumExpr detected 20 cores but \"NUMEXPR_MAX_THREADS\" not set, so enforcing safe limit of 8.\n",
      "02-Aug-24 03:28:48 - NumExpr defaulting to 8 threads.\n"
     ]
    },
    {
     "name": "stderr",
     "output_type": "stream",
     "text": [
      "Testing instances:  16%|█████████▊                                                     | 12/77 [00:22<01:36,  1.49s/it]"
     ]
    },
    {
     "name": "stdout",
     "output_type": "stream",
     "text": [
      "02-Aug-24 03:29:12 - Certificate did not match expected hostname: nitter.esmailelbob.xyz. Certificate: {'subject': ((('commonName', 'esmailelbob.xyz'),),), 'issuer': ((('countryName', 'US'),), (('organizationName', \"Let's Encrypt\"),), (('commonName', 'E6'),)), 'version': 3, 'serialNumber': '035E16081D6A32AF3A11F9CF35D43FD0249E', 'notBefore': 'Jul  6 18:47:31 2024 GMT', 'notAfter': 'Oct  4 18:47:30 2024 GMT', 'subjectAltName': (('DNS', 'esmailelbob.xyz'),), 'OCSP': ('http://e6.o.lencr.org',), 'caIssuers': ('http://e6.i.lencr.org/',)}\n"
     ]
    },
    {
     "name": "stderr",
     "output_type": "stream",
     "text": [
      "Testing instances:  92%|██████████████████████████████████████████████████████████     | 71/77 [02:47<00:10,  1.71s/it]"
     ]
    },
    {
     "name": "stdout",
     "output_type": "stream",
     "text": [
      "02-Aug-24 03:31:38 - Certificate did not match expected hostname: nt.ggtyler.dev. Certificate: {'subject': ((('commonName', '4g.ggtyler.dev'),),), 'issuer': ((('countryName', 'US'),), (('organizationName', \"Let's Encrypt\"),), (('commonName', 'E6'),)), 'version': 3, 'serialNumber': '043C83E6DFFFA194D2CDA2DE14B572820A1C', 'notBefore': 'Jul 13 13:08:14 2024 GMT', 'notAfter': 'Oct 11 13:08:13 2024 GMT', 'subjectAltName': (('DNS', '4g.ggtyler.dev'),), 'OCSP': ('http://e6.o.lencr.org',), 'caIssuers': ('http://e6.i.lencr.org/',)}\n"
     ]
    },
    {
     "name": "stderr",
     "output_type": "stream",
     "text": [
      "Testing instances:  95%|███████████████████████████████████████████████████████████▋   | 73/77 [02:49<00:05,  1.35s/it]"
     ]
    },
    {
     "name": "stdout",
     "output_type": "stream",
     "text": [
      "02-Aug-24 03:31:39 - Certificate did not match expected hostname: nitter.uni-sonia.com. Certificate: {'subject': ((('commonName', '*.xserver.jp'),),), 'issuer': ((('countryName', 'JP'),), (('organizationName', 'CloudSecure Corporation'),), (('commonName', 'CloudSecure RSA Domain Validation Secure Server CA 2'),)), 'version': 3, 'serialNumber': 'ACA67AD2030638EE2DCE8E845B8299A6', 'notBefore': 'Mar 11 00:00:00 2024 GMT', 'notAfter': 'Apr 11 23:59:59 2025 GMT', 'subjectAltName': (('DNS', '*.xserver.jp'), ('DNS', 'xserver.jp')), 'OCSP': ('http://ocsp.sectigo.com',), 'caIssuers': ('http://crt.sectigo.com/CloudSecureRSADomainValidationSecureServerCA2.crt',)}\n"
     ]
    },
    {
     "name": "stderr",
     "output_type": "stream",
     "text": [
      "Testing instances:  99%|██████████████████████████████████████████████████████████████▏| 76/77 [02:59<00:02,  2.77s/it]"
     ]
    },
    {
     "name": "stdout",
     "output_type": "stream",
     "text": [
      "02-Aug-24 03:31:49 - Certificate did not match expected hostname: nitter.tinfoil-hat.net. Certificate: {'subject': ((('commonName', 'jelly.tinfoil-hat.de'),),), 'issuer': ((('countryName', 'US'),), (('organizationName', \"Let's Encrypt\"),), (('commonName', 'E6'),)), 'version': 3, 'serialNumber': '03557B828B954DCD5ADD0EEA6DDF9F1E0085', 'notBefore': 'Jul 16 04:52:19 2024 GMT', 'notAfter': 'Oct 14 04:52:18 2024 GMT', 'subjectAltName': (('DNS', 'jelly.tinfoil-hat.de'),), 'OCSP': ('http://e6.o.lencr.org',), 'caIssuers': ('http://e6.i.lencr.org/',)}\n"
     ]
    },
    {
     "name": "stderr",
     "output_type": "stream",
     "text": [
      "Testing instances: 100%|███████████████████████████████████████████████████████████████| 77/77 [03:00<00:00,  2.34s/it]"
     ]
    },
    {
     "name": "stdout",
     "output_type": "stream",
     "text": [
      "02-Aug-24 03:31:49 - No instance specified, using random instance https://nitter.privacydev.net\n"
     ]
    },
    {
     "name": "stderr",
     "output_type": "stream",
     "text": [
      "\n"
     ]
    },
    {
     "name": "stdout",
     "output_type": "stream",
     "text": [
      "02-Aug-24 03:31:51 - Empty page on https://nitter.privacydev.net\n",
      "HTML file created successfully.\n"
     ]
    }
   ],
   "source": [
    "from ntscraper import Nitter\n",
    "import pandas as pd\n",
    "from jinja2 import Template\n",
    "\n",
    "# Initialize the scraper\n",
    "scraper = Nitter(0)\n",
    "\n",
    "# Function to get tweets\n",
    "def get_tweets(name, modes, no):\n",
    "    tweets = scraper.get_tweets(name, mode=modes, number=no)\n",
    "    final_tweets = []\n",
    "    for x in tweets['tweets']:\n",
    "        data = [\n",
    "            x['link'],\n",
    "            x['text'],\n",
    "            x['date'],\n",
    "            x['stats']['likes'],\n",
    "            x['stats']['comments']\n",
    "        ]\n",
    "        final_tweets.append(data)\n",
    "    dat = pd.DataFrame(final_tweets, columns=['twitter_link', 'text', 'date', 'likes', 'comments'])\n",
    "    return dat\n",
    "\n",
    "# Fetch tweets with term 'World cup 2023'\n",
    "data = get_tweets('World cup 2023', 'term', 10)\n",
    "\n",
    "# HTML template for Google Visualization Charts\n",
    "html_template = \"\"\"\n",
    "<!DOCTYPE html>\n",
    "<html>\n",
    "<head>\n",
    "    <title>Social Media Data Visualization</title>\n",
    "    <script type=\"text/javascript\" src=\"https://www.gstatic.com/charts/loader.js\"></script>\n",
    "    <script type=\"text/javascript\">\n",
    "        google.charts.load('current', {'packages':['corechart', 'table']});\n",
    "        google.charts.setOnLoadCallback(drawCharts);\n",
    "        \n",
    "        function drawCharts() {\n",
    "            var lineData = new google.visualization.DataTable();\n",
    "            lineData.addColumn('string', 'Date');\n",
    "            lineData.addColumn('number', 'Likes');\n",
    "            lineData.addRows([\n",
    "                {% for row in data.itertuples() %}\n",
    "                ['{{ row.date }}', {{ row.likes }}],\n",
    "                {% endfor %}\n",
    "            ]);\n",
    "            var lineOptions = {\n",
    "                title: 'Likes Over Time',\n",
    "                curveType: 'function',\n",
    "                legend: { position: 'bottom' }\n",
    "            };\n",
    "            var lineChart = new google.visualization.LineChart(document.getElementById('line_chart'));\n",
    "            lineChart.draw(lineData, lineOptions);\n",
    "            \n",
    "            var pieData = new google.visualization.DataTable();\n",
    "            pieData.addColumn('string', 'Tweet');\n",
    "            pieData.addColumn('number', 'Comments');\n",
    "            pieData.addRows([\n",
    "                {% for row in data.itertuples() %}\n",
    "                ['{{ row.text|truncate(50) }}', {{ row.comments }}],\n",
    "                {% endfor %}\n",
    "            ]);\n",
    "            var pieOptions = {\n",
    "                title: 'Comments Distribution',\n",
    "                is3D: true,\n",
    "            };\n",
    "            var pieChart = new google.visualization.PieChart(document.getElementById('pie_chart'));\n",
    "            pieChart.draw(pieData, pieOptions);\n",
    "            \n",
    "            var barData = new google.visualization.DataTable();\n",
    "            barData.addColumn('string', 'Tweet');\n",
    "            barData.addColumn('number', 'Likes');\n",
    "            barData.addRows([\n",
    "                {% for row in data.itertuples() %}\n",
    "                ['{{ row.text|truncate(50) }}', {{ row.likes }}],\n",
    "                {% endfor %}\n",
    "            ]);\n",
    "            var barOptions = {\n",
    "                title: 'Likes Distribution',\n",
    "                chartArea: {width: '50%'},\n",
    "                hAxis: {\n",
    "                    title: 'Likes',\n",
    "                    minValue: 0\n",
    "                },\n",
    "                vAxis: {\n",
    "                    title: 'Tweet'\n",
    "                }\n",
    "            };\n",
    "            var barChart = new google.visualization.BarChart(document.getElementById('bar_chart'));\n",
    "            barChart.draw(barData, barOptions);\n",
    "            \n",
    "            var tableData = new google.visualization.DataTable();\n",
    "            tableData.addColumn('string', 'Tweet');\n",
    "            tableData.addColumn('string', 'Date');\n",
    "            tableData.addColumn('number', 'Likes');\n",
    "            tableData.addColumn('number', 'Comments');\n",
    "            tableData.addRows([\n",
    "                {% for row in data.itertuples() %}\n",
    "                ['<a href=\"{{ row.twitter_link }}\" target=\"_blank\">{{ row.text|truncate(50) }}</a>', '{{ row.date }}', {{ row.likes }}, {{ row.comments }}],\n",
    "                {% endfor %}\n",
    "            ]);\n",
    "            var table = new google.visualization.Table(document.getElementById('table_div'));\n",
    "            table.draw(tableData, {showRowNumber: true, width: '100%', height: '100%'});\n",
    "        }\n",
    "    </script>\n",
    "</head>\n",
    "<body>\n",
    "    <h1>Social Media Data Visualization</h1>\n",
    "    <div id=\"line_chart\" style=\"width: 900px; height: 500px;\"></div>\n",
    "    <div id=\"pie_chart\" style=\"width: 900px; height: 500px;\"></div>\n",
    "    <div id=\"bar_chart\" style=\"width: 900px; height: 500px;\"></div>\n",
    "    <div id=\"table_div\" style=\"width: 900px; height: 500px;\"></div>\n",
    "</body>\n",
    "</html>\n",
    "\"\"\"\n",
    "\n",
    "# Render the template with the data\n",
    "template = Template(html_template)\n",
    "html_content = template.render(data=data)\n",
    "\n",
    "# Save the rendered HTML to a file with UTF-8 encoding\n",
    "with open('visualization.html', 'w', encoding='utf-8') as file:\n",
    "    file.write(html_content)\n",
    "\n",
    "print(\"HTML file created successfully.\")"
   ]
  },
  {
   "cell_type": "code",
   "execution_count": null,
   "id": "e568099a",
   "metadata": {},
   "outputs": [],
   "source": []
  },
  {
   "cell_type": "code",
   "execution_count": null,
   "id": "13e7aa33",
   "metadata": {},
   "outputs": [],
   "source": []
  },
  {
   "cell_type": "code",
   "execution_count": null,
   "id": "c40c3665",
   "metadata": {},
   "outputs": [],
   "source": []
  },
  {
   "cell_type": "code",
   "execution_count": null,
   "id": "1ea81cfe",
   "metadata": {},
   "outputs": [],
   "source": []
  }
 ],
 "metadata": {
  "kernelspec": {
   "display_name": "Python 3 (ipykernel)",
   "language": "python",
   "name": "python3"
  },
  "language_info": {
   "codemirror_mode": {
    "name": "ipython",
    "version": 3
   },
   "file_extension": ".py",
   "mimetype": "text/x-python",
   "name": "python",
   "nbconvert_exporter": "python",
   "pygments_lexer": "ipython3",
   "version": "3.11.5"
  }
 },
 "nbformat": 4,
 "nbformat_minor": 5
}
